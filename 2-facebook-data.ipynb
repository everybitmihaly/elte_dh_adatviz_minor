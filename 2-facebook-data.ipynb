{
 "cells": [
  {
   "metadata": {},
   "cell_type": "markdown",
   "source": [
    "# Import\n",
    "Importáljuk a könyvtárakat amiket használnunk kell"
   ],
   "id": "3f017cd41aca9c92"
  },
  {
   "metadata": {},
   "cell_type": "code",
   "source": [
    "import json  # JSON fájlok beolvasása\n",
    "from datetime import datetime  # Dátumok manipulálására\n",
    "from hashlib import sha256  # A nevek titkosítására\n",
    "from pathlib import Path  # Navigálás a fájlrendszerünkben (olyan mint az \"os\", csak jobb)\n",
    "from zipfile import ZipFile  # .zip fájlok olvasása\n",
    "\n",
    "import pandas as pd  # Táblázat kezelés\n",
    "import matplotlib.pyplot as plt  # A vizualizálásra"
   ],
   "id": "3b90ef53393c7454",
   "outputs": [],
   "execution_count": null
  },
  {
   "metadata": {},
   "cell_type": "markdown",
   "source": [
    "# Facebook hiba\n",
    "Sajnos a Facebook export hibásan kódolja a Unicode karaktereket. Ezt majd meg kell javítanunk. Erra használjuk később ezt a funkciót. Nem kell vele törődni. Ha érdekel a probléma, a doc-string linkjén lehet róla többet olvasni."
   ],
   "id": "f6a260890ec138fa"
  },
  {
   "metadata": {},
   "cell_type": "code",
   "source": [
    "def fix_fb_bytes(data):\n",
    "    \"\"\"Source: https://krvtz.net/posts/how-facebook-got-unicode-wrong.html\"\"\"\n",
    "    new_data: bytes = b''\n",
    "    i: int = 0\n",
    "    while i < len(data):\n",
    "        if data[i:].startswith(b'\\\\u00'):\n",
    "            u: int = 0\n",
    "            new_char: bytes = b''\n",
    "            while data[i+u:].startswith(b'\\\\u00'):\n",
    "                hex = int(bytes([data[i+u+4], data[i+u+5]]), 16)\n",
    "                new_char = b''.join([new_char, bytes([hex])])\n",
    "                u += 6\n",
    "\n",
    "            char : str = new_char.decode('utf-8')\n",
    "            new_chars: bytes = bytes(json.dumps(char).strip('\"'), 'ascii')\n",
    "            new_data += new_chars\n",
    "            i += u\n",
    "        else:\n",
    "            new_data = b''.join([new_data, bytes([data[i]])])\n",
    "            i += 1\n",
    "\n",
    "    return new_data"
   ],
   "id": "8bb17ed2d7320d06",
   "outputs": [],
   "execution_count": null
  },
  {
   "metadata": {},
   "cell_type": "markdown",
   "source": "# Beolvasás",
   "id": "b53b0a9aac5ba0e2"
  },
  {
   "metadata": {},
   "cell_type": "code",
   "source": [
    "# Megadjuk, hogy hol van a letöltött .zip fájl a rendszerünkön\n",
    "facebook_data_zipfile = Path('/home/misinagy/Documents/Personal/dt3/facebook-mihalynagy1232-20_09_2025-PvHj805b.zip')"
   ],
   "id": "7c77b4712e9bf6e",
   "outputs": [],
   "execution_count": null
  },
  {
   "metadata": {},
   "cell_type": "code",
   "source": [
    "# Kiszedjük a .zip fájlból azokat a fájl elérési útvonalakat, amelyek message_xyz.json formátumot követik.\n",
    "message_files = []\n",
    "with ZipFile(facebook_data_zipfile, 'r') as zip_fh:\n",
    "    for file in zip_fh.namelist():\n",
    "        zip_file_filepath = Path(file)\n",
    "        if zip_file_filepath.name.startswith('message_') and zip_file_filepath.suffix == '.json':\n",
    "            message_files.append(str(zip_file_filepath))"
   ],
   "id": "e2f195cbeefaa265",
   "outputs": [],
   "execution_count": null
  },
  {
   "metadata": {},
   "cell_type": "code",
   "source": [
    "# Végigmegyünk a kinyert fájl elérési útvonalakon és kiolvassuk a .zip fájlból a JSON adatokat, letároljuk egy listában az összeset. Ez 2-3 percig eltarthat.\n",
    "messages_raw = []\n",
    "with ZipFile(facebook_data_zipfile, 'r') as zip_fh:\n",
    "    for message_file in message_files:\n",
    "        data = json.loads(fix_fb_bytes(zip_fh.read(message_file)))  # Itt használjuk a Facebook Unicode hiba kijavítást\n",
    "        messages_raw.append(data)"
   ],
   "id": "8dbb27d5f4f03d9f",
   "outputs": [],
   "execution_count": null
  },
  {
   "metadata": {},
   "cell_type": "markdown",
   "source": "# Titkosítás",
   "id": "33d5f61cc6ac3421"
  },
  {
   "metadata": {},
   "cell_type": "code",
   "source": [
    "# Kinyerjük a saját sha265 kódunkat, hogy be tudjuk azonosítani önmagunkat\n",
    "mycode = sha256('Mihály Nagy'.encode('utf-8')).hexdigest()\n",
    "print(f'Mihály Nagy = {mycode}')"
   ],
   "id": "800cd67dd49c0cba",
   "outputs": [],
   "execution_count": null
  },
  {
   "metadata": {},
   "cell_type": "code",
   "source": [
    "# Végigmegyünk az adatunkban az összes 'messages' objektumon, és kicseréljük a neveket egy sha265 kódra.\n",
    "# A sha265 egy visszafordíthatatlan hash algoritmus eredménye, így biztos, hogy senki sem fogja tudni kideríteni kivel beszéltünk.\n",
    "secret_name_code_lookup = {}\n",
    "other_person = None\n",
    "table_rows_data = []\n",
    "for data in messages_raw:\n",
    "    if len(data['participants']) == 2:  # Itt csak azokat a beszélgetéseket választom ki ahol két ember közt történt a chatelés.\n",
    "        for participant in data['participants']:\n",
    "            code = sha256(participant['name'].encode('utf-8')).hexdigest()\n",
    "            secret_name_code_lookup[code] = participant['name']\n",
    "            if code != mycode:\n",
    "                other_person = code\n",
    "        # Titkosítjuk a message.sender_name változót és kitöröljük a message.content és message.reactions értékeket\n",
    "        for message in data['messages']:\n",
    "\n",
    "            # Kitöröljük azokat az értékeket amikre nem lesz szükségünk. (content, reactions, etc.)\n",
    "            keys_not_needed = [key for key in message.keys() if key not in {'sender_name', 'timestamp_ms'}]\n",
    "            for key in keys_not_needed:\n",
    "                message.pop(key, None)\n",
    "\n",
    "            # Titkosítjuk a küldő nevét\n",
    "            sender = sha256(message['sender_name'].encode('utf-8')).hexdigest()\n",
    "\n",
    "            # Ha én voltam a küldő akkor hozzáadjuk a fogadó kódját mint fogadó\n",
    "            if sender == mycode:\n",
    "                receiver = other_person\n",
    "            else:  # ha meg nem, akkor én leszek a fogadó\n",
    "                receiver = mycode\n",
    "\n",
    "            table_rows_data.append((sender, receiver, message['timestamp_ms'], other_person))\n"
   ],
   "id": "f64fcd82ae7be1d3",
   "outputs": [],
   "execution_count": null
  },
  {
   "metadata": {},
   "cell_type": "markdown",
   "source": "# Táblázat felépítése",
   "id": "696d8686758b2aff"
  },
  {
   "metadata": {},
   "cell_type": "code",
   "source": [
    "# Beolvassuk egy pandas DataFrame objektumba az adat listánkat. Megadjuk az oszlopneveket.\n",
    "message_df = pd.DataFrame(table_rows_data, columns=['sender', 'receiver', 'timestamp_ms', 'interacted_with'])"
   ],
   "id": "ca5071ebfc274a8a",
   "outputs": [],
   "execution_count": null
  },
  {
   "metadata": {},
   "cell_type": "code",
   "source": [
    "# A Dátumokból kinyerjük az év-hónap formátumot és elmentjük a year_month oszlopba\n",
    "def convert_to_year_month(timestamp):\n",
    "    return datetime.fromtimestamp(timestamp / 1000).strftime('%Y-%m')\n",
    "message_df['year_month'] = message_df['timestamp_ms'].apply(convert_to_year_month)"
   ],
   "id": "91157c198cb94e9f",
   "outputs": [],
   "execution_count": null
  },
  {
   "metadata": {},
   "cell_type": "code",
   "source": [
    "# Megszámoljuk, hogy kivel hányszor interaktáltunk egy év-hónap-ban.\n",
    "interaction_count_by_person_df = message_df.groupby(['year_month', 'interacted_with']).size().reset_index().rename({0: 'count'}, axis=1)"
   ],
   "id": "c9efee21ae7fb232",
   "outputs": [],
   "execution_count": null
  },
  {
   "metadata": {},
   "cell_type": "code",
   "source": [
    "# Végül a végső formátumba hozzuk az adatunk. Az év-hónap legyen a bal oldalon az index oszlop, az interacted_with-ből legyen egy külön oszlop minden egyedi kódnak, és a \"count\" értékei legyenek a cellákban.\n",
    "final = interaction_count_by_person_df.pivot(index='year_month', columns='interacted_with', values='count')"
   ],
   "id": "734b1f9d1969ae1b",
   "outputs": [],
   "execution_count": null
  },
  {
   "metadata": {},
   "cell_type": "code",
   "source": [
    "# Nézzünk rá hogy néz ki.\n",
    "final.plot(kind='line', figsize=(12, 4))\n",
    "plt.legend().remove()"
   ],
   "id": "15d6b1d6913dd2e2",
   "outputs": [],
   "execution_count": null
  },
  {
   "metadata": {},
   "cell_type": "code",
   "source": [
    "# Mentsük el a kész adatot.\n",
    "# Aki akarja, visszaváltoztathatja a neveket az eredetikra\n",
    "# final = final.rename(secret_name_code_lookup, axis=1)\n",
    "final.to_csv('fb_interactions_yearmonth.csv')"
   ],
   "id": "50df860eea94f93c",
   "outputs": [],
   "execution_count": null
  },
  {
   "metadata": {},
   "cell_type": "markdown",
   "source": "# Utólagos érdekességek",
   "id": "5cf5f53b34f81930"
  },
  {
   "metadata": {},
   "cell_type": "code",
   "source": [
    "# Megnézhetjük kikkel beszéltünk a legtöbbet\n",
    "interaction_count_by_person_df.groupby('interacted_with')['count'].sum().sort_values(ascending=False)"
   ],
   "id": "fbbfcf6fa5adccb6",
   "outputs": [],
   "execution_count": null
  },
  {
   "metadata": {},
   "cell_type": "code",
   "source": [
    "# És így visszanézhetjük a kódokhoz tartozó neveket.\n",
    "secret_name_code_lookup['d5d38a4a804bd900023d541846695afd39cdda279b1857ed6cdc73c40c189cda']"
   ],
   "id": "5dc4239436455a9",
   "outputs": [],
   "execution_count": null
  }
 ],
 "metadata": {
  "kernelspec": {
   "display_name": "Python 3",
   "language": "python",
   "name": "python3"
  },
  "language_info": {
   "codemirror_mode": {
    "name": "ipython",
    "version": 2
   },
   "file_extension": ".py",
   "mimetype": "text/x-python",
   "name": "python",
   "nbconvert_exporter": "python",
   "pygments_lexer": "ipython2",
   "version": "2.7.6"
  }
 },
 "nbformat": 4,
 "nbformat_minor": 5
}
