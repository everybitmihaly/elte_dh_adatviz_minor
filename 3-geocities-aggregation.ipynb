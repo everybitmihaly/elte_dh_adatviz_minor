{
 "cells": [
  {
   "cell_type": "code",
   "execution_count": 2,
   "id": "94d07e5b",
   "metadata": {},
   "outputs": [],
   "source": [
    "import pandas as pd"
   ]
  },
  {
   "cell_type": "markdown",
   "id": "8a1fcce0",
   "metadata": {},
   "source": [
    "1) Beolvassuk a CSV fáljt ami elérhető a githubon"
   ]
  },
  {
   "cell_type": "code",
   "execution_count": 16,
   "id": "caa1fd5a",
   "metadata": {},
   "outputs": [],
   "source": [
    "df = pd.read_csv('https://github.com/everybitmihaly/elte_dh_adatviz_minor/raw/refs/heads/main/data/cities15000_raw.csv')"
   ]
  },
  {
   "cell_type": "markdown",
   "id": "dfee5e33",
   "metadata": {},
   "source": [
    "2. SZŰRÉS: Kivalasztjuk csak a megfelelő feature code változókat"
   ]
  },
  {
   "cell_type": "code",
   "execution_count": 17,
   "id": "327dde8e",
   "metadata": {},
   "outputs": [],
   "source": [
    "filtered_df = df[df['feature code'].isin(['PPL', 'PPLA', 'PPLA2', 'PPLA3', 'PPLA4', 'PPLA5'])]"
   ]
  },
  {
   "cell_type": "markdown",
   "id": "6702c97c",
   "metadata": {},
   "source": [
    "3. CSOPORTOSÍTÁS ÉS ÖSSESÍTÉS: Csoportosítunk a continent változó alapján, és összesítjük a sorok számát"
   ]
  },
  {
   "cell_type": "code",
   "execution_count": 18,
   "id": "f73ec517",
   "metadata": {},
   "outputs": [
    {
     "data": {
      "text/html": [
       "<div>\n",
       "<style scoped>\n",
       "    .dataframe tbody tr th:only-of-type {\n",
       "        vertical-align: middle;\n",
       "    }\n",
       "\n",
       "    .dataframe tbody tr th {\n",
       "        vertical-align: top;\n",
       "    }\n",
       "\n",
       "    .dataframe thead th {\n",
       "        text-align: right;\n",
       "    }\n",
       "</style>\n",
       "<table border=\"1\" class=\"dataframe\">\n",
       "  <thead>\n",
       "    <tr style=\"text-align: right;\">\n",
       "      <th></th>\n",
       "      <th>continent</th>\n",
       "      <th>count</th>\n",
       "    </tr>\n",
       "  </thead>\n",
       "  <tbody>\n",
       "    <tr>\n",
       "      <th>0</th>\n",
       "      <td>Africa</td>\n",
       "      <td>3886</td>\n",
       "    </tr>\n",
       "    <tr>\n",
       "      <th>1</th>\n",
       "      <td>Asia</td>\n",
       "      <td>11390</td>\n",
       "    </tr>\n",
       "    <tr>\n",
       "      <th>2</th>\n",
       "      <td>Europe</td>\n",
       "      <td>8376</td>\n",
       "    </tr>\n",
       "    <tr>\n",
       "      <th>3</th>\n",
       "      <td>North America</td>\n",
       "      <td>5041</td>\n",
       "    </tr>\n",
       "    <tr>\n",
       "      <th>4</th>\n",
       "      <td>Oceania</td>\n",
       "      <td>399</td>\n",
       "    </tr>\n",
       "    <tr>\n",
       "      <th>5</th>\n",
       "      <td>South America</td>\n",
       "      <td>3542</td>\n",
       "    </tr>\n",
       "  </tbody>\n",
       "</table>\n",
       "</div>"
      ],
      "text/plain": [
       "       continent  count\n",
       "0         Africa   3886\n",
       "1           Asia  11390\n",
       "2         Europe   8376\n",
       "3  North America   5041\n",
       "4        Oceania    399\n",
       "5  South America   3542"
      ]
     },
     "execution_count": 18,
     "metadata": {},
     "output_type": "execute_result"
    }
   ],
   "source": [
    "aggregation = df.groupby('continent').size().reset_index(name='count')\n",
    "aggregation"
   ]
  },
  {
   "cell_type": "markdown",
   "id": "5d06ec24",
   "metadata": {},
   "source": [
    "4. Elmenthetjük az így készült adatot"
   ]
  },
  {
   "cell_type": "code",
   "execution_count": 19,
   "id": "4a565f36",
   "metadata": {},
   "outputs": [],
   "source": [
    "aggregation.to_csv('number_of_cities_with_15000+population_by_continent.csv')"
   ]
  }
 ],
 "metadata": {
  "kernelspec": {
   "display_name": ".venv",
   "language": "python",
   "name": "python3"
  },
  "language_info": {
   "codemirror_mode": {
    "name": "ipython",
    "version": 3
   },
   "file_extension": ".py",
   "mimetype": "text/x-python",
   "name": "python",
   "nbconvert_exporter": "python",
   "pygments_lexer": "ipython3",
   "version": "3.12.3"
  }
 },
 "nbformat": 4,
 "nbformat_minor": 5
}
